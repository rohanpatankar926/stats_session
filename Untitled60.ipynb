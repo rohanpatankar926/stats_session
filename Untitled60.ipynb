{
  "cells": [
    {
      "cell_type": "code",
      "execution_count": 1,
      "metadata": {
        "id": "UwrdXLBomd5M"
      },
      "outputs": [],
      "source": [
        "### Outliers"
      ]
    },
    {
      "cell_type": "code",
      "execution_count": 3,
      "metadata": {
        "id": "eAomTAQ1mjzA"
      },
      "outputs": [],
      "source": [
        "import numpy as np"
      ]
    },
    {
      "cell_type": "code",
      "execution_count": 4,
      "metadata": {
        "id": "L5VNbz7xmuAn"
      },
      "outputs": [],
      "source": [
        "## Define our dataset\n",
        "dataset= [11,10,12,14,12,15,14,13,15,102,12,14,17,19,107, 10,13,12,14,12,108,12,11,14,13,15,10,15,12,10,14,13,15,10]"
      ]
    },
    {
      "cell_type": "code",
      "execution_count": 7,
      "metadata": {
        "colab": {
          "base_uri": "https://localhost:8080/",
          "height": 336
        },
        "id": "IcP4jXLOocG9",
        "outputId": "5ace9e5b-e009-4e97-d775-d53d05a9a7e6"
      },
      "outputs": [
        {
          "data": {
            "text/plain": [
              "(array([31.,  0.,  0.,  0.,  0.,  0.,  0.,  0.,  0.,  3.]),\n",
              " array([ 10. ,  19.8,  29.6,  39.4,  49.2,  59. ,  68.8,  78.6,  88.4,\n",
              "         98.2, 108. ]),\n",
              " <a list of 10 Patch objects>)"
            ]
          },
          "execution_count": 7,
          "metadata": {},
          "output_type": "execute_result"
        },
        {
          "data": {
            "image/png": "[encoded data removed]",
            "text/plain": [
              "<Figure size 432x288 with 1 Axes>"
            ]
          },
          "metadata": {
            "needs_background": "light"
          },
          "output_type": "display_data"
        }
      ],
      "source": [
        "plt.hist(dataset)"
      ]
    },
    {
      "cell_type": "code",
      "execution_count": 27,
      "metadata": {
        "id": "fEkOthX6m88K"
      },
      "outputs": [],
      "source": [
        "## Z Score\n",
        "outliers=[]\n",
        "\n",
        "def detect_outliers(data):\n",
        "  threshold=3 ## 3 std deviation\n",
        "  mean=np.mean(data)\n",
        "  std=np.std(data)\n",
        "\n",
        "  for x in data:\n",
        "    z_score=(x-mean)/std\n",
        "    if np.abs(z_score)> threshold:\n",
        "      outliers.append(x)\n",
        "\n",
        "  return outliers\n",
        "\n"
      ]
    },
    {
      "cell_type": "code",
      "execution_count": 28,
      "metadata": {
        "colab": {
          "base_uri": "https://localhost:8080/"
        },
        "id": "AFRLAXH7oWXI",
        "outputId": "fe0513ae-a488-435e-827d-1401b59cb540"
      },
      "outputs": [
        {
          "data": {
            "text/plain": [
              "[102, 107, 108]"
            ]
          },
          "execution_count": 28,
          "metadata": {},
          "output_type": "execute_result"
        }
      ],
      "source": [
        "detect_outliers(dataset)"
      ]
    },
    {
      "cell_type": "code",
      "execution_count": 30,
      "metadata": {},
      "outputs": [
        {
          "ename": "ValueError",
          "evalue": "list.remove(x): x not in list",
          "output_type": "error",
          "traceback": [
            "\u001b[0;31m---------------------------------------------------------------------------\u001b[0m",
            "\u001b[0;31mValueError\u001b[0m                                Traceback (most recent call last)",
            "Cell \u001b[0;32mIn[30], line 1\u001b[0m\n\u001b[0;32m----> 1\u001b[0m dataset\u001b[39m.\u001b[39;49mremove(detect_outliers(dataset))\n",
            "\u001b[0;31mValueError\u001b[0m: list.remove(x): x not in list"
          ]
        }
      ],
      "source": [
        "if detect_outliers(dataset) != []:\n",
        "    dataset.remove(detect_outliers(dataset))\n",
        "dataset.remove(detect_outliers(dataset))"
      ]
    },
    {
      "cell_type": "markdown",
      "metadata": {
        "id": "lgrPCsYQpcKC"
      },
      "source": [
        "#IQR\n",
        "1. Sort the data\n",
        "2. Calculate Q1 aqnd Q3\n",
        "3. IQR(Q3-Q1)\n",
        "4. Find the Lower fence(q1-1.5(iqr))\n",
        "5. Find the upper fence(q3+1.5(iqr))"
      ]
    },
    {
      "cell_type": "code",
      "execution_count": 5,
      "metadata": {
        "colab": {
          "base_uri": "https://localhost:8080/"
        },
        "id": "LWIdK5cGo2PQ",
        "outputId": "970cc925-29a9-4d24-a5d3-db153133b89d"
      },
      "outputs": [
        {
          "data": {
            "text/plain": [
              "[10,\n",
              " 10,\n",
              " 10,\n",
              " 10,\n",
              " 10,\n",
              " 11,\n",
              " 11,\n",
              " 12,\n",
              " 12,\n",
              " 12,\n",
              " 12,\n",
              " 12,\n",
              " 12,\n",
              " 12,\n",
              " 13,\n",
              " 13,\n",
              " 13,\n",
              " 13,\n",
              " 14,\n",
              " 14,\n",
              " 14,\n",
              " 14,\n",
              " 14,\n",
              " 14,\n",
              " 15,\n",
              " 15,\n",
              " 15,\n",
              " 15,\n",
              " 15,\n",
              " 17,\n",
              " 19,\n",
              " 102,\n",
              " 107,\n",
              " 108]"
            ]
          },
          "execution_count": 5,
          "metadata": {},
          "output_type": "execute_result"
        }
      ],
      "source": [
        "dataset=sorted(dataset)\n",
        "dataset\n",
        "\n"
      ]
    },
    {
      "cell_type": "code",
      "execution_count": 6,
      "metadata": {
        "id": "5X9HvLnSp6qM"
      },
      "outputs": [],
      "source": [
        "# q1,q3=np.percentile(dataset,[25,75])\n",
        "\n",
        "q1,q3=(25/100)*(len(dataset)+1), (75/100)*(len(dataset)+1)"
      ]
    },
    {
      "cell_type": "code",
      "execution_count": 7,
      "metadata": {
        "colab": {
          "base_uri": "https://localhost:8080/"
        },
        "id": "XtS2-_bRqF3N",
        "outputId": "a196cf27-5fb1-44f1-8fbc-04cfca5be43e"
      },
      "outputs": [
        {
          "name": "stdout",
          "output_type": "stream",
          "text": [
            "8.75 26.25\n"
          ]
        }
      ],
      "source": [
        "print(q1,q3)"
      ]
    },
    {
      "cell_type": "code",
      "execution_count": 8,
      "metadata": {
        "colab": {
          "base_uri": "https://localhost:8080/"
        },
        "id": "2pXqb-wgqWa7",
        "outputId": "f149afa2-29d4-4691-d434-86e7b40f9c48"
      },
      "outputs": [
        {
          "name": "stdout",
          "output_type": "stream",
          "text": [
            "17.5\n"
          ]
        }
      ],
      "source": [
        "iqr=q3-q1\n",
        "print(iqr)"
      ]
    },
    {
      "cell_type": "code",
      "execution_count": 9,
      "metadata": {
        "id": "yvAm3AEpqH6g"
      },
      "outputs": [],
      "source": [
        "## Find the lower fence and higher fence\n",
        "lower_fence=q1-(1.5*iqr)\n",
        "higher_fence=q3+(1.5* iqr)"
      ]
    },
    {
      "cell_type": "code",
      "execution_count": 10,
      "metadata": {
        "colab": {
          "base_uri": "https://localhost:8080/"
        },
        "id": "-zVLfeHtqhon",
        "outputId": "2b03fdc4-944c-4599-b455-2fdc76a2c2e7"
      },
      "outputs": [
        {
          "name": "stdout",
          "output_type": "stream",
          "text": [
            "-17.5 52.5\n"
          ]
        }
      ],
      "source": [
        "print(lower_fence,higher_fence)"
      ]
    },
    {
      "cell_type": "code",
      "execution_count": 11,
      "metadata": {
        "id": "k4HSrcGjqksX"
      },
      "outputs": [
        {
          "name": "stdout",
          "output_type": "stream",
          "text": [
            "Collecting seaborn\n",
            "  Downloading seaborn-0.12.2-py3-none-any.whl (293 kB)\n",
            "\u001b[K     |████████████████████████████████| 293 kB 306 kB/s eta 0:00:01\n",
            "\u001b[?25hRequirement already satisfied: numpy!=1.24.0,>=1.17 in /home/rohanpatankar/.local/lib/python3.8/site-packages (from seaborn) (1.24.1)\n",
            "Requirement already satisfied: pandas>=0.25 in /home/rohanpatankar/.local/lib/python3.8/site-packages (from seaborn) (1.5.3)\n",
            "Collecting matplotlib!=3.6.1,>=3.1\n",
            "  Downloading matplotlib-3.6.3-cp38-cp38-manylinux_2_12_x86_64.manylinux2010_x86_64.whl (9.4 MB)\n",
            "\u001b[K     |████████████████████████████████| 9.4 MB 1.5 MB/s eta 0:00:01\n",
            "\u001b[?25hRequirement already satisfied: python-dateutil>=2.8.1 in /home/rohanpatankar/.local/lib/python3.8/site-packages (from pandas>=0.25->seaborn) (2.8.2)\n",
            "Requirement already satisfied: pytz>=2020.1 in /home/rohanpatankar/.local/lib/python3.8/site-packages (from pandas>=0.25->seaborn) (2022.7.1)\n",
            "Collecting pyparsing>=2.2.1\n",
            "  Using cached pyparsing-3.0.9-py3-none-any.whl (98 kB)\n",
            "Collecting contourpy>=1.0.1\n",
            "  Downloading contourpy-1.0.7-cp38-cp38-manylinux_2_17_x86_64.manylinux2014_x86_64.whl (300 kB)\n",
            "\u001b[K     |████████████████████████████████| 300 kB 695 kB/s eta 0:00:01\n",
            "\u001b[?25hCollecting kiwisolver>=1.0.1\n",
            "  Downloading kiwisolver-1.4.4-cp38-cp38-manylinux_2_5_x86_64.manylinux1_x86_64.whl (1.2 MB)\n",
            "\u001b[K     |████████████████████████████████| 1.2 MB 385 kB/s eta 0:00:01\n",
            "\u001b[?25hRequirement already satisfied: pillow>=6.2.0 in /usr/lib/python3/dist-packages (from matplotlib!=3.6.1,>=3.1->seaborn) (7.0.0)\n",
            "Collecting cycler>=0.10\n",
            "  Downloading cycler-0.11.0-py3-none-any.whl (6.4 kB)\n",
            "Requirement already satisfied: packaging>=20.0 in /home/rohanpatankar/.local/lib/python3.8/site-packages (from matplotlib!=3.6.1,>=3.1->seaborn) (23.0)\n",
            "Collecting fonttools>=4.22.0\n",
            "  Downloading fonttools-4.38.0-py3-none-any.whl (965 kB)\n",
            "\u001b[K     |████████████████████████████████| 965 kB 378 kB/s eta 0:00:01\n",
            "\u001b[?25hRequirement already satisfied: six>=1.5 in /usr/lib/python3/dist-packages (from python-dateutil>=2.8.1->pandas>=0.25->seaborn) (1.14.0)\n",
            "Installing collected packages: pyparsing, contourpy, kiwisolver, cycler, fonttools, matplotlib, seaborn\n",
            "Successfully installed contourpy-1.0.7 cycler-0.11.0 fonttools-4.38.0 kiwisolver-1.4.4 matplotlib-3.6.3 pyparsing-3.0.9 seaborn-0.12.2\n"
          ]
        }
      ],
      "source": [
        "!pip install seaborn\n",
        "import seaborn as sns\n"
      ]
    },
    {
      "cell_type": "code",
      "execution_count": 13,
      "metadata": {
        "colab": {
          "base_uri": "https://localhost:8080/",
          "height": 338
        },
        "id": "U8yZdzpBq3-t",
        "outputId": "cae821ed-fe97-458c-d037-2051f200ee7b"
      },
      "outputs": [
        {
          "data": {
            "text/plain": [
              "<AxesSubplot: >"
            ]
          },
          "execution_count": 13,
          "metadata": {},
          "output_type": "execute_result"
        },
        {
          "data": {
            "image/png": "[encoded data removed]",
            "text/plain": [
              "<Figure size 640x480 with 1 Axes>"
            ]
          },
          "metadata": {},
          "output_type": "display_data"
        }
      ],
      "source": [
        "sns.boxplot(dataset)"
      ]
    },
    {
      "cell_type": "code",
      "execution_count": null,
      "metadata": {
        "id": "xmQGwEYWq9hx"
      },
      "outputs": [],
      "source": []
    }
  ],
  "metadata": {
    "colab": {
      "name": "Untitled60.ipynb",
      "provenance": []
    },
    "kernelspec": {
      "display_name": "Python 3",
      "language": "python",
      "name": "python3"
    },
    "language_info": {
      "codemirror_mode": {
        "name": "ipython",
        "version": 3
      },
      "file_extension": ".py",
      "mimetype": "text/x-python",
      "name": "python",
      "nbconvert_exporter": "python",
      "pygments_lexer": "ipython3",
      "version": "3.8.10"
    },
    "vscode": {
      "interpreter": {
        "hash": "916dbcbb3f70747c44a77c7bcd40155683ae19c65e1c03b4aa3499c5328201f1"
      }
    }
  },
  "nbformat": 4,
  "nbformat_minor": 0
}
